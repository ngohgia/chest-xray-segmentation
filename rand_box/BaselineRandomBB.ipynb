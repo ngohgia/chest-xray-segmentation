{
 "cells": [
  {
   "cell_type": "markdown",
   "metadata": {},
   "source": [
    "# Create Random Bounding Boxes"
   ]
  },
  {
   "cell_type": "markdown",
   "metadata": {},
   "source": [
    "My box positions and dimensions may be off by 1 in some sections from incorrect indices\n",
    "\n",
    "First import necessary packages and set up file paths"
   ]
  },
  {
   "cell_type": "code",
   "execution_count": 1,
   "metadata": {},
   "outputs": [],
   "source": [
    "%matplotlib inline\n",
    "import matplotlib.pyplot as plt\n",
    "import numpy as np\n",
    "import pydicom\n",
    "import pandas as pd\n",
    "from glob import glob\n",
    "import os\n",
    "from matplotlib.patches import Rectangle\n",
    "import csv\n",
    "import math\n",
    "\n",
    "filepath = \"C:/Users/Matthew/ECE5970Project\"\n",
    "det_class_path = filepath+'/input/stage_1_detailed_class_info.csv'\n",
    "full_info_path = filepath+'/input/image_bbox_full.csv'\n",
    "bbox_path = filepath+'/input/stage_1_train_labels.csv'\n",
    "dicom_dir = filepath+'/input/stage_1_train_images/'\n",
    "test_path = filepath+'/input/stage_1_test_images/'"
   ]
  },
  {
   "cell_type": "markdown",
   "metadata": {},
   "source": [
    "Gather data statistics using a pandas dataframe"
   ]
  },
  {
   "cell_type": "code",
   "execution_count": 2,
   "metadata": {},
   "outputs": [],
   "source": [
    "full_info_df = pd.read_csv(full_info_path)\n",
    "xmean1 = 0  # x position mean for left side of image\n",
    "k1 = 0\n",
    "xmean2 = 0  # x position mean for right side of image\n",
    "k2 = 0\n",
    "for x in full_info_df['x'].dropna():\n",
    "    if(x < 512):\n",
    "        xmean1 = xmean1 + x\n",
    "        k1 = k1 + 1\n",
    "    else:\n",
    "        xmean2 = xmean2 + x\n",
    "        k2 = k2 + 1\n",
    "xmean = full_info_df['x'].mean()\n",
    "xmean1=xmean1/k1\n",
    "xmean2 = xmean2/k2\n",
    "xvar1 = 0\n",
    "k1 = 0\n",
    "xvar2 = 0\n",
    "k2 = 0\n",
    "for x in full_info_df['x'].dropna():\n",
    "    if(x < 512):\n",
    "        xvar1 = xvar1 + (x-xmean1)*(x-xmean1)\n",
    "        k1 = k1 + 1\n",
    "    else:\n",
    "        xvar2 = xvar2 + (x-xmean2)*(x-xmean2)\n",
    "        k2 = k2 + 1\n",
    "xstd = full_info_df['x'].std()\n",
    "xstd1 = math.sqrt((1/(k1-1))*xvar1)\n",
    "xstd2 = math.sqrt((1/(k2-1))*xvar2)\n",
    "xmin = full_info_df['x'].min()\n",
    "xmax = full_info_df['x'].max()\n",
    "ymean = full_info_df['y'].mean()\n",
    "ystd = full_info_df['y'].std()\n",
    "ymin = full_info_df['y'].min()\n",
    "ymax = full_info_df['y'].max()\n",
    "wmean = full_info_df['width'].mean()\n",
    "wstd = full_info_df['width'].std()\n",
    "wmin = full_info_df['width'].min()\n",
    "wmax = full_info_df['width'].max()\n",
    "hmean = full_info_df['height'].mean()\n",
    "hstd = full_info_df['height'].std()\n",
    "hmin = full_info_df['height'].min()\n",
    "hmax = full_info_df['height'].max()"
   ]
  },
  {
   "cell_type": "markdown",
   "metadata": {},
   "source": [
    "Function to make a random box using Gaussian distributions and assuming independence between x, y, width, and height\n",
    "\n",
    "Need if statements to ensure all valules and boxes lie within the 1024x1024 pixel image  \n",
    "This will condense probability from Gaussian \"tails\" onto the edges of the image  \n",
    "Other distributions may be better, but this serves as a simple baseline"
   ]
  },
  {
   "cell_type": "code",
   "execution_count": 3,
   "metadata": {},
   "outputs": [],
   "source": [
    "def makeRandBox():\n",
    "    xp = round(np.random.normal(xmean, xstd))\n",
    "    yp = round(np.random.normal(ymean, ystd))\n",
    "    wp = round(np.random.normal(wmean, wstd))\n",
    "    hp = round(np.random.normal(hmean, hstd))\n",
    "    if xp < 0:\n",
    "        xp = 0\n",
    "    if xp > 1023:\n",
    "        xp = 1023\n",
    "    if yp < 0:\n",
    "        yp = 0\n",
    "    if yp > 1023:\n",
    "        yp = 1023\n",
    "    if wp < 1:\n",
    "        wp = 1\n",
    "    if hp < 1:\n",
    "        hp = 1\n",
    "    if xp + wp > 1024:\n",
    "        wp = 1024 - xp\n",
    "    if yp + hp > 1024:\n",
    "        hp = 1024 - yp\n",
    "    return [xp, yp, wp, hp]"
   ]
  },
  {
   "cell_type": "markdown",
   "metadata": {},
   "source": [
    "Function to make a random box with uniform distributions bounded by training data minimums and maximums\n",
    "\n",
    "Need fewer if statements since the position will not be outside bounds"
   ]
  },
  {
   "cell_type": "code",
   "execution_count": 4,
   "metadata": {},
   "outputs": [],
   "source": [
    "def UmakeRandBox():\n",
    "    xp = round(np.random.uniform(xmin, xmax))\n",
    "    yp = round(np.random.uniform(ymin, ymax))\n",
    "    wp = round(np.random.uniform(wmin, wmax))\n",
    "    hp = round(np.random.uniform(hmin, hmax))\n",
    "    if xp + wp > 1024:\n",
    "        wp = 1024 - xp\n",
    "    if yp + hp > 1024:\n",
    "        hp = 1024 - yp\n",
    "    return [xp, yp, wp, hp]"
   ]
  },
  {
   "cell_type": "markdown",
   "metadata": {},
   "source": [
    "Function to make a random box using a bimodal distribution over x (one Gaussian for each lung) and Gaussians for the three other variables"
   ]
  },
  {
   "cell_type": "code",
   "execution_count": 5,
   "metadata": {},
   "outputs": [],
   "source": [
    "def BimakeRandBox():\n",
    "    f = np.random.rand()\n",
    "    if(f < 0.5):\n",
    "        xp = round(np.random.normal(xmean1, xstd1))\n",
    "    else:\n",
    "        xp=round(np.random.normal(xmean2, xstd2))\n",
    "    yp = round(np.random.normal(ymean, ystd))\n",
    "    wp = round(np.random.normal(wmean, wstd))\n",
    "    hp = round(np.random.normal(hmean, hstd))\n",
    "    if xp < 0:\n",
    "        xp = 0\n",
    "    if xp > 1023:\n",
    "        xp = 1023\n",
    "    if yp < 0:\n",
    "        yp = 0\n",
    "    if yp > 1023:\n",
    "        yp = 1023\n",
    "    if wp < 1:\n",
    "        wp = 1\n",
    "    if hp < 1:\n",
    "        hp = 1\n",
    "    if xp + wp > 1024:\n",
    "        wp = 1024 - xp\n",
    "    if yp + hp > 1024:\n",
    "        hp = 1024 - yp\n",
    "    return [xp, yp, wp, hp]"
   ]
  },
  {
   "cell_type": "markdown",
   "metadata": {},
   "source": [
    "Function to make a completely random uniform bounding box (does not use any training data)"
   ]
  },
  {
   "cell_type": "code",
   "execution_count": 6,
   "metadata": {},
   "outputs": [],
   "source": [
    "def UmakeTrueRandBox():\n",
    "    xp = round(np.random.uniform(0, 1022))\n",
    "    yp = round(np.random.uniform(0, 1022))\n",
    "    wp = round(np.random.uniform(1, 1024))\n",
    "    hp = round(np.random.uniform(1, 1024))\n",
    "    if xp + wp > 1024:\n",
    "        wp = 1024 - xp\n",
    "    if yp + hp > 1024:\n",
    "        hp = 1024 - yp\n",
    "    return [xp, yp, wp, hp]"
   ]
  },
  {
   "cell_type": "markdown",
   "metadata": {},
   "source": [
    "Check that the functions work"
   ]
  },
  {
   "cell_type": "code",
   "execution_count": 7,
   "metadata": {
    "scrolled": true
   },
   "outputs": [
    {
     "name": "stdout",
     "output_type": "stream",
     "text": [
      "[436, 526, 304, 211]\n",
      "[441, 234, 392, 519]\n",
      "[627, 358, 241, 57]\n",
      "[500, 207, 452, 29]\n"
     ]
    }
   ],
   "source": [
    "a=makeRandBox()\n",
    "b=UmakeRandBox()\n",
    "c=BimakeRandBox()\n",
    "d=UmakeTrueRandBox()\n",
    "print(a)\n",
    "print(b)\n",
    "print(c)\n",
    "print(d)"
   ]
  },
  {
   "cell_type": "markdown",
   "metadata": {},
   "source": [
    "If we want to use different numbers of boxes based on the training data:  \n",
    "There are 25684 subjects  \n",
    "0 Boxes 16720  \n",
    "1 Box 6566  \n",
    "2 Boxes 3266  \n",
    "3 Boxes 119  \n",
    "4 Boxes 13"
   ]
  },
  {
   "cell_type": "markdown",
   "metadata": {},
   "source": [
    "Create a random bounding box for every input image  \n",
    "The model with two Gaussians for the x position appears to work the best"
   ]
  },
  {
   "cell_type": "code",
   "execution_count": 8,
   "metadata": {},
   "outputs": [],
   "source": [
    "ofile  = open('test_submission_random_two_gaussian.csv', \"w\", newline='')\n",
    "writer = csv.writer(ofile, delimiter=',')\n",
    "writer.writerow(['patientId','PredictionString'])\n",
    "for fpath in glob(test_path+'*.dcm'):\n",
    "    pID = os.path.splitext(os.path.basename(fpath))[0]\n",
    "    a=np.random.uniform()\n",
    "    bbox='1.0 '+str(BimakeRandBox())[1:-1].replace(',', '')\n",
    "    writer.writerow([pID,bbox])\n",
    "ofile.close()"
   ]
  }
 ],
 "metadata": {
  "kernelspec": {
   "display_name": "ECE5970Project",
   "language": "python",
   "name": "ece5970project"
  },
  "language_info": {
   "codemirror_mode": {
    "name": "ipython",
    "version": 3
   },
   "file_extension": ".py",
   "mimetype": "text/x-python",
   "name": "python",
   "nbconvert_exporter": "python",
   "pygments_lexer": "ipython3",
   "version": "3.6.4"
  }
 },
 "nbformat": 4,
 "nbformat_minor": 2
}
